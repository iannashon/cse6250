{
  "cells": [
    {
      "cell_type": "markdown",
      "metadata": {
        "id": "view-in-github",
        "colab_type": "text"
      },
      "source": [
        "<a href=\"https://colab.research.google.com/github/iannashon/cse6250/blob/main/Data.ipynb\" target=\"_parent\"><img src=\"https://colab.research.google.com/assets/colab-badge.svg\" alt=\"Open In Colab\"/></a>"
      ]
    },
    {
      "cell_type": "code",
      "execution_count": null,
      "metadata": {
        "id": "mlgkT82_0EF6",
        "colab": {
          "base_uri": "https://localhost:8080/"
        },
        "outputId": "4608b57a-4a73-42cb-a6e4-84e5f00df209"
      },
      "outputs": [
        {
          "output_type": "stream",
          "name": "stdout",
          "text": [
            "Looking in indexes: https://pypi.org/simple, https://us-python.pkg.dev/colab-wheels/public/simple/\n",
            "Collecting pyspark\n",
            "  Downloading pyspark-3.3.1.tar.gz (281.4 MB)\n",
            "\u001b[K     |████████████████████████████████| 281.4 MB 44 kB/s \n",
            "\u001b[?25hCollecting py4j==0.10.9.5\n",
            "  Downloading py4j-0.10.9.5-py2.py3-none-any.whl (199 kB)\n",
            "\u001b[K     |████████████████████████████████| 199 kB 68.8 MB/s \n",
            "\u001b[?25hBuilding wheels for collected packages: pyspark\n",
            "  Building wheel for pyspark (setup.py) ... \u001b[?25l\u001b[?25hdone\n",
            "  Created wheel for pyspark: filename=pyspark-3.3.1-py2.py3-none-any.whl size=281845512 sha256=2c71abe9d6e800ad7c8238a2bb6d79e9f688676a077ca325421748b5dc5e0a57\n",
            "  Stored in directory: /root/.cache/pip/wheels/43/dc/11/ec201cd671da62fa9c5cc77078235e40722170ceba231d7598\n",
            "Successfully built pyspark\n",
            "Installing collected packages: py4j, pyspark\n",
            "Successfully installed py4j-0.10.9.5 pyspark-3.3.1\n"
          ]
        }
      ],
      "source": [
        "pip install pyspark"
      ]
    },
    {
      "cell_type": "code",
      "execution_count": null,
      "metadata": {
        "id": "M1USAHSSuFlV",
        "colab": {
          "base_uri": "https://localhost:8080/"
        },
        "outputId": "ee972478-e4a5-4a8b-ae02-5f255012e39a"
      },
      "outputs": [
        {
          "output_type": "stream",
          "name": "stdout",
          "text": [
            "Mounted at /content/drive\n"
          ]
        }
      ],
      "source": [
        "from google.colab import drive\n",
        "drive.mount('/content/drive')"
      ]
    },
    {
      "cell_type": "code",
      "execution_count": null,
      "metadata": {
        "id": "PGAu2Y-Lnate"
      },
      "outputs": [],
      "source": [
        "import pyspark as pyspark\n",
        "from pyspark.sql.functions import *\n",
        "from pyspark import SparkContext, SparkConf, SQLContext\n",
        "from datetime import datetime\n",
        "from pyspark.sql import SparkSession\n",
        "from pyspark.sql.functions import array, lit\n",
        "from pyspark.sql import Window, functions as F"
      ]
    },
    {
      "cell_type": "markdown",
      "metadata": {
        "id": "6ac3pQsx2_ek"
      },
      "source": [
        "##Setup"
      ]
    },
    {
      "cell_type": "code",
      "execution_count": null,
      "metadata": {
        "id": "4av5jbQx1Ujo"
      },
      "outputs": [],
      "source": [
        "spark = SparkSession\\\n",
        "    .builder\\\n",
        "    .master('local')\\\n",
        "    .appName('cse6250Project')\\\n",
        "    .enableHiveSupport() \\\n",
        "    .getOrCreate()"
      ]
    },
    {
      "cell_type": "markdown",
      "metadata": {
        "id": "ES4XFwlO3KID"
      },
      "source": [
        "##1. Identifying Heart Failure Admissions "
      ]
    },
    {
      "cell_type": "markdown",
      "metadata": {
        "id": "rQ9HmE263dmI"
      },
      "source": []
    },
    {
      "cell_type": "code",
      "execution_count": null,
      "metadata": {
        "id": "1aMPXuPA13Mn",
        "colab": {
          "base_uri": "https://localhost:8080/"
        },
        "outputId": "e6205c32-a680-4572-9bbf-ac17778f79fd"
      },
      "outputs": [
        {
          "output_type": "stream",
          "name": "stdout",
          "text": [
            "-RECORD 0------------------------------------\n",
            " ROW_ID               | 21                   \n",
            " SUBJECT_ID           | 22                   \n",
            " HADM_ID              | 165315               \n",
            " ADMITTIME            | 2196-04-09 12:26:00  \n",
            " DISCHTIME            | 2196-04-10 15:54:00  \n",
            " DEATHTIME            | null                 \n",
            " ADMISSION_TYPE       | EMERGENCY            \n",
            " ADMISSION_LOCATION   | EMERGENCY ROOM ADMIT \n",
            " DISCHARGE_LOCATION   | DISC-TRAN CANCER/... \n",
            " INSURANCE            | Private              \n",
            " LANGUAGE             | null                 \n",
            " RELIGION             | UNOBTAINABLE         \n",
            " MARITAL_STATUS       | MARRIED              \n",
            " ETHNICITY            | WHITE                \n",
            " EDREGTIME            | 2196-04-09 10:06:00  \n",
            " EDOUTTIME            | 2196-04-09 13:24:00  \n",
            " DIAGNOSIS            | BENZODIAZEPINE OV... \n",
            " HOSPITAL_EXPIRE_FLAG | 0                    \n",
            " HAS_CHARTEVENTS_DATA | 1                    \n",
            "only showing top 1 row\n",
            "\n",
            "-RECORD 0------------\n",
            " ROW_ID     | 1297   \n",
            " SUBJECT_ID | 109    \n",
            " HADM_ID    | 172335 \n",
            " SEQ_NUM    | 1      \n",
            " ICD9_CODE  | 40301  \n",
            "only showing top 1 row\n",
            "\n"
          ]
        }
      ],
      "source": [
        "# -- load admissions and diagnosis_icd tables\n",
        "admissions = spark.read.option(\"header\",True).csv(\"drive/MyDrive/mimicdb/data/ADMISSIONS.csv\")\n",
        "diagnosis_icd = spark.read.option(\"header\",True).csv(\"drive/MyDrive/mimicdb/data/DIAGNOSES_ICD.csv\")\n",
        "\n",
        "admissions.show(1, vertical=True)\n",
        "diagnosis_icd.show(1, vertical=True)\n",
        "\n",
        "# -- Merge admissions & diagnosis_icd tables. select columns and filter admissions to identify only those associated with relevant diagnoses\n",
        "diagnosis_icd = diagnosis_icd.withColumnRenamed(\"HADM_ID\", \"HADM_ID_X\")\n",
        "admission_icd9 = diagnosis_icd.join(admissions, diagnosis_icd.HADM_ID_X == admissions.HADM_ID, \"left\").select(admissions[\"*\"], diagnosis_icd[\"ICD9_CODE\"])\n",
        "admission_icd9 = admission_icd9.select(\"HADM_ID\", \"SUBJECT_ID\", \"ICD9_CODE\",  \"ADMITTIME\", \"DISCHTIME\", \"DIAGNOSIS\" )\n",
        "# admission_icd9.count()\n",
        "\n",
        "# Filter heart failure ICD-9 codes\n",
        "list_of_icd_codes = [\"39891\", \"40201\", \"40211\", \"40291\",\"40401\", \"40403\", \"40411\", \"40413\", \"40491\", \"40493\", \"4280\", \"4281\",\n",
        "\"42820\", \"42821\", \"42822\", \"42823\", \"42830\", \"42831\", \"42832\", \"42833\",\"42840\", \"42841\", \"42842\", \"42843\",  \"4289\"]\n",
        "admission_for_hf = admission_icd9.where(admission_icd9.ICD9_CODE.isin(list_of_icd_codes))\n",
        "admission_for_hf = admission_for_hf.dropDuplicates([\"HADM_ID\"])\n",
        "w_spec  = Window.partitionBy(\"SUBJECT_ID\").orderBy(\"ADMITTIME\")\n",
        "admission_x = admission_for_hf.withColumn(\"row_number\", row_number().over(w_spec)).sort(desc(\"SUBJECT_ID\"), \"row_number\")\n",
        "admission_lead = admission_x.withColumn(\"lead\", -1 * datediff(admission_x.DISCHTIME, lead(\"ADMITTIME\", 1).over(w_spec)))\n",
        "\n",
        "# Add isReadmission\n",
        "admission_status = admission_lead.withColumn(\"isReadmission\", \n",
        "                                           when(col(\"lead\").isNull(), False)\n",
        "                                           .otherwise(True)).sort(desc(\"SUBJECT_ID\"), asc(\"row_number\"))\n",
        "\n",
        "# Add isEarlyReadmission\n",
        "admission_status = admission_status.withColumn(\"isEarlyReadmission\", \n",
        "                                           when(col(\"lead\")<=30, True)\n",
        "                                           .otherwise(False)).sort(desc(\"SUBJECT_ID\"), asc(\"row_number\"))                                          \n"
      ]
    },
    {
      "cell_type": "code",
      "source": [
        "admission_status.count()"
      ],
      "metadata": {
        "colab": {
          "base_uri": "https://localhost:8080/"
        },
        "id": "heU6SVMrVtLq",
        "outputId": "d8edeca8-22bd-49af-ae3b-02d3d9009867"
      },
      "execution_count": null,
      "outputs": [
        {
          "output_type": "execute_result",
          "data": {
            "text/plain": [
              "14040"
            ]
          },
          "metadata": {},
          "execution_count": 12
        }
      ]
    },
    {
      "cell_type": "code",
      "source": [
        "#-- OJAS cleaning check\n",
        "# admission_for_hf.show(5)\n",
        "# admission_lead.filter(col(\"lead\")==0).orderBy(\"SUBJECT_ID\",\"HADM_ID\").show(10)\n",
        "# admission_status.show(5)"
      ],
      "metadata": {
        "id": "A1VHDhSp3tiq",
        "colab": {
          "base_uri": "https://localhost:8080/",
          "height": 224
        },
        "outputId": "dd09f79c-2a1b-4a4c-cf58-06623556ce4e"
      },
      "execution_count": null,
      "outputs": [
        {
          "output_type": "error",
          "ename": "NameError",
          "evalue": "ignored",
          "traceback": [
            "\u001b[0;31m---------------------------------------------------------------------------\u001b[0m",
            "\u001b[0;31mNameError\u001b[0m                                 Traceback (most recent call last)",
            "\u001b[0;32m<ipython-input-6-8e503e09a7ce>\u001b[0m in \u001b[0;36m<module>\u001b[0;34m\u001b[0m\n\u001b[1;32m      1\u001b[0m \u001b[0;31m#-- OJAS cleaning check\u001b[0m\u001b[0;34m\u001b[0m\u001b[0;34m\u001b[0m\u001b[0;34m\u001b[0m\u001b[0m\n\u001b[0;32m----> 2\u001b[0;31m \u001b[0madmission_for_hf\u001b[0m\u001b[0;34m.\u001b[0m\u001b[0mshow\u001b[0m\u001b[0;34m(\u001b[0m\u001b[0;36m5\u001b[0m\u001b[0;34m)\u001b[0m\u001b[0;34m\u001b[0m\u001b[0;34m\u001b[0m\u001b[0m\n\u001b[0m\u001b[1;32m      3\u001b[0m \u001b[0madmission_lead\u001b[0m\u001b[0;34m.\u001b[0m\u001b[0mfilter\u001b[0m\u001b[0;34m(\u001b[0m\u001b[0mcol\u001b[0m\u001b[0;34m(\u001b[0m\u001b[0;34m\"lead\"\u001b[0m\u001b[0;34m)\u001b[0m\u001b[0;34m==\u001b[0m\u001b[0;36m0\u001b[0m\u001b[0;34m)\u001b[0m\u001b[0;34m.\u001b[0m\u001b[0morderBy\u001b[0m\u001b[0;34m(\u001b[0m\u001b[0;34m\"SUBJECT_ID\"\u001b[0m\u001b[0;34m,\u001b[0m\u001b[0;34m\"HADM_ID\"\u001b[0m\u001b[0;34m)\u001b[0m\u001b[0;34m.\u001b[0m\u001b[0mshow\u001b[0m\u001b[0;34m(\u001b[0m\u001b[0;36m10\u001b[0m\u001b[0;34m)\u001b[0m\u001b[0;34m\u001b[0m\u001b[0;34m\u001b[0m\u001b[0m\n\u001b[1;32m      4\u001b[0m \u001b[0madmission_status\u001b[0m\u001b[0;34m.\u001b[0m\u001b[0mshow\u001b[0m\u001b[0;34m(\u001b[0m\u001b[0;36m5\u001b[0m\u001b[0;34m)\u001b[0m\u001b[0;34m\u001b[0m\u001b[0;34m\u001b[0m\u001b[0m\n",
            "\u001b[0;31mNameError\u001b[0m: name 'admission_for_hf' is not defined"
          ]
        }
      ]
    },
    {
      "cell_type": "code",
      "execution_count": null,
      "metadata": {
        "id": "FEMOhXir5MdR",
        "colab": {
          "base_uri": "https://localhost:8080/"
        },
        "outputId": "179bb358-df9d-4ad3-e240-49e877546ea3"
      },
      "outputs": [
        {
          "output_type": "execute_result",
          "data": {
            "text/plain": [
              "14040"
            ]
          },
          "metadata": {},
          "execution_count": 16
        }
      ],
      "source": [
        "noteevents = spark.read.option(\"multiLine\",True).option(\"header\",True).csv(\"drive/MyDrive/mimicdb/data/NOTEEVENTS.csv\")\n",
        "# noteevents.show(1, vertical=True)\n",
        "\n",
        "# Calculate Text length\n",
        "note_events_wds= noteevents.filter(noteevents.CATEGORY == 'Discharge summary')\n",
        "note_events_wds= note_events_wds.withColumn(\"TEXT_LN_OLD\", length(\"TEXT\"))\n",
        "note_events_wds= note_events_wds.withColumn(\"TEXT_LN\", F.size(F.split(note_events_wds['TEXT'], ' ')))\n",
        "note_events = note_events_wds.dropDuplicates()\n",
        "\n",
        "\n",
        "w_espec  = Window.partitionBy(\"HADM_ID\").orderBy(\"TEXT_LN\")\n",
        "note_events_wds = note_events_wds.withColumn(\"max_txt_lenght\", row_number().over(w_espec)).sort(desc(\"TEXT_LN\"))\n",
        "# note_events_wds.orderBy(desc(\"HADM_ID\")).show(5)\n",
        "\n",
        "windowDept = Window.partitionBy(\"HADM_ID\").orderBy(col(\"TEXT_LN\").desc())\n",
        "note_events_cln = note_events_wds.withColumn(\"row\",row_number().over(windowDept)) \\\n",
        "  .filter(col(\"row\") == 1).drop(\"row\") \n",
        "\n",
        "admissions = admission_status.join(note_events_cln, admission_status.HADM_ID == note_events_cln.HADM_ID, \"left\").select(admission_status[\"*\"], note_events_cln[\"CATEGORY\"] , note_events_cln[\"TEXT\"] )\n",
        "admissions= admissions.withColumn(\"TEXT_LN_OLD\", length(\"TEXT\"))\n",
        "admissions= admissions.withColumn(\"TEXT_LN\", F.size(F.split(note_events_wds['TEXT'], ' ')))\n",
        "admissions.count()\n"
      ]
    },
    {
      "cell_type": "code",
      "source": [
        "#-- OJAS cleaning check\n",
        "note_events_wds.show(3)\n",
        "note_events_cln.show(3)\n",
        "admissions.show(3)"
      ],
      "metadata": {
        "colab": {
          "base_uri": "https://localhost:8080/"
        },
        "id": "90uljfY5czZ3",
        "outputId": "3fa69b24-453b-4dec-ff37-5010767206e6"
      },
      "execution_count": null,
      "outputs": [
        {
          "output_type": "stream",
          "name": "stdout",
          "text": [
            "+------+----------+-------+----------+---------+---------+-----------------+-----------+----+-------+--------------------+-------+-------------+--------------+\n",
            "|ROW_ID|SUBJECT_ID|HADM_ID| CHARTDATE|CHARTTIME|STORETIME|         CATEGORY|DESCRIPTION|CGID|ISERROR|                TEXT|TEXT_LN|TEXT_LN_WORDS|max_txt_lenght|\n",
            "+------+----------+-------+----------+---------+---------+-----------------+-----------+----+-------+--------------------+-------+-------------+--------------+\n",
            "|  1484|     66807| 166588|2199-05-23|     null|     null|Discharge summary|     Report|null|   null|Admission Date:  ...|  50663|         7064|             1|\n",
            "| 34099|     28941| 107962|2144-09-18|     null|     null|Discharge summary|     Report|null|   null|Admission Date:  ...|  50035|         7979|             1|\n",
            "| 48774|     51821| 197028|2161-01-01|     null|     null|Discharge summary|     Report|null|   null|Admission Date:  ...|  49417|         6534|             1|\n",
            "+------+----------+-------+----------+---------+---------+-----------------+-----------+----+-------+--------------------+-------+-------------+--------------+\n",
            "only showing top 3 rows\n",
            "\n",
            "+------+----------+-------+----------+---------+---------+-----------------+-----------+----+-------+--------------------+-------+-------------+--------------+\n",
            "|ROW_ID|SUBJECT_ID|HADM_ID| CHARTDATE|CHARTTIME|STORETIME|         CATEGORY|DESCRIPTION|CGID|ISERROR|                TEXT|TEXT_LN|TEXT_LN_WORDS|max_txt_lenght|\n",
            "+------+----------+-------+----------+---------+---------+-----------------+-----------+----+-------+--------------------+-------+-------------+--------------+\n",
            "|  8772|      9895| 100006|2108-04-17|     null|     null|Discharge summary|     Report|null|   null|Admission Date:  ...|   5943|          911|             2|\n",
            "| 40054|     55853| 100010|2109-12-14|     null|     null|Discharge summary|     Report|null|   null|Admission Date:  ...|   5662|          771|             1|\n",
            "| 14579|      4528| 100025|2191-07-15|     null|     null|Discharge summary|     Report|null|   null|Admission Date:  ...|   3249|          501|             1|\n",
            "+------+----------+-------+----------+---------+---------+-----------------+-----------+----+-------+--------------------+-------+-------------+--------------+\n",
            "only showing top 3 rows\n",
            "\n",
            "+-------+----------+---------+-------------------+-------------------+--------------+----------+----+-------------+------------------+-----------------+--------------------+-------+\n",
            "|HADM_ID|SUBJECT_ID|ICD9_CODE|          ADMITTIME|          DISCHTIME|     DIAGNOSIS|row_number|lead|isReadmission|isEarlyReadmission|         CATEGORY|                TEXT|TEXT_LN|\n",
            "+-------+----------+---------+-------------------+-------------------+--------------+----------+----+-------------+------------------+-----------------+--------------------+-------+\n",
            "| 100039|     53014|    42843|2174-04-18 23:16:00|2174-05-17 14:00:00|ABDOMINAL PAIN|         3|   8|         true|              true|Discharge summary|Admission Date:  ...|  26873|\n",
            "| 100068|      9889|     4280|2192-01-05 15:35:00|2192-01-20 17:29:00|    CHEST PAIN|         5|null|        false|             false|Discharge summary|Admission Date:  ...|  19522|\n",
            "| 100087|     42255|    42820|2126-11-01 17:47:00|2126-11-06 05:00:00|CARDIAC ARREST|         1|null|        false|             false|Discharge summary|Admission Date:  ...|   9047|\n",
            "+-------+----------+---------+-------------------+-------------------+--------------+----------+----+-------------+------------------+-----------------+--------------------+-------+\n",
            "only showing top 3 rows\n",
            "\n"
          ]
        }
      ]
    },
    {
      "cell_type": "code",
      "source": [
        "admissions.filter(admissions.isEarlyReadmission=='true').count()"
      ],
      "metadata": {
        "colab": {
          "base_uri": "https://localhost:8080/"
        },
        "id": "_YnLpx5XVAqO",
        "outputId": "a26913ea-cd5a-4da7-8c87-02758a80a5fe"
      },
      "execution_count": null,
      "outputs": [
        {
          "output_type": "execute_result",
          "data": {
            "text/plain": [
              "958"
            ]
          },
          "metadata": {},
          "execution_count": 21
        }
      ]
    },
    {
      "cell_type": "code",
      "source": [
        "admissions.toPandas().to_csv(\"drive/MyDrive/mimicdb/dataset_05.csv\", header=True)"
      ],
      "metadata": {
        "id": "OgBTuhHVfQxx"
      },
      "execution_count": null,
      "outputs": []
    }
  ],
  "metadata": {
    "colab": {
      "provenance": [],
      "include_colab_link": true
    },
    "kernelspec": {
      "display_name": "Python 3",
      "name": "python3"
    },
    "language_info": {
      "name": "python"
    },
    "gpuClass": "premium"
  },
  "nbformat": 4,
  "nbformat_minor": 0
}