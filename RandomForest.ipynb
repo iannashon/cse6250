{
  "nbformat": 4,
  "nbformat_minor": 0,
  "metadata": {
    "colab": {
      "provenance": [],
      "authorship_tag": "ABX9TyPgDj4UeywLYG7HV/VP1oDD",
      "include_colab_link": true
    },
    "kernelspec": {
      "name": "python3",
      "display_name": "Python 3"
    },
    "language_info": {
      "name": "python"
    }
  },
  "cells": [
    {
      "cell_type": "markdown",
      "metadata": {
        "id": "view-in-github",
        "colab_type": "text"
      },
      "source": [
        "<a href=\"https://colab.research.google.com/github/iannashon/cse6250/blob/main/RandomForest.ipynb\" target=\"_parent\"><img src=\"https://colab.research.google.com/assets/colab-badge.svg\" alt=\"Open In Colab\"/></a>"
      ]
    },
    {
      "cell_type": "code",
      "source": [
        "# from google.colab import drive\n",
        "# drive.mount('/content/drive')"
      ],
      "metadata": {
        "id": "6KV-0i3UYdYz"
      },
      "execution_count": 18,
      "outputs": []
    },
    {
      "cell_type": "code",
      "source": [
        "# pip install tensorflow_decision_forests"
      ],
      "metadata": {
        "id": "OT1CCvnehz4E"
      },
      "execution_count": 19,
      "outputs": []
    },
    {
      "cell_type": "code",
      "execution_count": 20,
      "metadata": {
        "id": "1BCqp7E3YIJq"
      },
      "outputs": [],
      "source": [
        "from sklearn.ensemble import RandomForestClassifier\n",
        "import pandas as pd\n",
        "import numpy as np\n",
        "import re\n",
        "from sklearn.model_selection import train_test_split\n",
        "import string\n",
        "import tensorflow as tf\n",
        "from gensim.models.keyedvectors import KeyedVectors\n",
        "from tensorflow.keras.preprocessing.sequence import pad_sequences\n",
        "import tensorflow_decision_forests as tfdf\n",
        "from sklearn.feature_extraction.text import TfidfVectorizer\n",
        "from sklearn.metrics import confusion_matrix,classification_report\n",
        "import matplotlib.pyplot as plt\n",
        "import seaborn as sns\n",
        "from sklearn.preprocessing import LabelEncoder\n",
        "from sklearn.neighbors import KNeighborsClassifier"
      ]
    },
    {
      "cell_type": "code",
      "source": [
        "dataset = pd.read_csv(\"drive/MyDrive/mimicdb/dataset_05.csv\")\n",
        "# dataset.count()"
      ],
      "metadata": {
        "id": "SZbNnPUOYmsX"
      },
      "execution_count": 21,
      "outputs": []
    },
    {
      "cell_type": "code",
      "source": [
        "# dataset.head()\n",
        "def check_imbalance(dataset):\n",
        "  xx = dataset[\"isReadmission\"].value_counts().reset_index()\n",
        "  sns.barplot(x=\"index\", y=\"isReadmission\", data=xx, palette=\"cividis\")"
      ],
      "metadata": {
        "id": "U2Op0a3pLGT0"
      },
      "execution_count": 22,
      "outputs": []
    },
    {
      "cell_type": "code",
      "source": [
        "# X_train, X_test, y_train, y_test = train_test_split(dataset[\"TEXT\"], dataset[\"TEXT_LN\"], test_size=0.1, random_state=42)"
      ],
      "metadata": {
        "id": "VBeY0X4iNqZQ"
      },
      "execution_count": 23,
      "outputs": []
    },
    {
      "cell_type": "code",
      "source": [
        "#  check_imbalance(X_test)"
      ],
      "metadata": {
        "id": "zueqFImiOR8V"
      },
      "execution_count": 24,
      "outputs": []
    },
    {
      "cell_type": "code",
      "source": [
        "# msk = np.random.rand(len(dataset)) < 0.3\n",
        "# sample_df = dataset[msk]\n",
        "# print(len(sample_df))\n",
        "# dataset= sample_df"
      ],
      "metadata": {
        "id": "sYj-s4dnYrFl"
      },
      "execution_count": 25,
      "outputs": []
    },
    {
      "cell_type": "code",
      "source": [
        "def remove_numbers_and_special_character(text):\n",
        "    text_cln = re.sub('[^A-Za-z]+', ' ', str(text))\n",
        "    return text_cln\n",
        "  \n",
        "\n",
        "def clean_text(text ): \n",
        "    delete_dict = {sp_character: '' for sp_character in string.punctuation} \n",
        "    delete_dict[' '] = ' ' \n",
        "    table = str.maketrans(delete_dict)\n",
        "    text1 = text.translate(table)\n",
        "    textArr= text1.split()\n",
        "    text2 = ' '.join([w for w in textArr if ( not w.isdigit() and  ( not w.isdigit() and len(w)>2))]) \n",
        "    \n",
        "    return text2.lower()\n",
        "\n",
        "\n",
        "def split_dataset(train_data):\n",
        "  X_train, X_valid, y_train, y_valid = train_test_split(train_data['TEXT'].tolist(),\\\n",
        "                                                      train_data['isReadmission'].tolist(),\\\n",
        "                                                      test_size=0.1,\\\n",
        "                                                      random_state=42)\n",
        "  return X_train, X_valid, y_train, y_valid\n",
        "\n",
        "def label_tx(y_train):\n",
        "  le = LabelEncoder()\n",
        "  train_labels = le.fit_transform(y_train)\n",
        "  # train_labels = np.asarray( tf.keras.utils.to_categorical(train_labels))\n",
        "  return train_labels"
      ],
      "metadata": {
        "id": "tbcGXoifbg40"
      },
      "execution_count": 26,
      "outputs": []
    },
    {
      "cell_type": "code",
      "source": [
        "dataset['TEXT'] = dataset['TEXT'].apply(remove_numbers_and_special_character)\n",
        "dataset['TEXT'] = dataset['TEXT'].apply(clean_text)\n",
        "print(len(dataset))"
      ],
      "metadata": {
        "colab": {
          "base_uri": "https://localhost:8080/"
        },
        "id": "KsIMoQ2HbtaS",
        "outputId": "292ae400-0495-4b45-b013-81f9fcd297cf"
      },
      "execution_count": 27,
      "outputs": [
        {
          "output_type": "stream",
          "name": "stdout",
          "text": [
            "14040\n"
          ]
        }
      ]
    },
    {
      "cell_type": "code",
      "source": [
        "X_train, X_test, y_train, y_test = split_dataset(dataset)"
      ],
      "metadata": {
        "id": "Xg4ZsJFibwyI"
      },
      "execution_count": 28,
      "outputs": []
    },
    {
      "cell_type": "code",
      "source": [
        "ytrain= label_tx(y_train)\n",
        "ytest= label_tx(y_test)"
      ],
      "metadata": {
        "id": "rFD2B4rrcRVx"
      },
      "execution_count": 29,
      "outputs": []
    },
    {
      "cell_type": "code",
      "source": [
        "tfidf_vectorizer = TfidfVectorizer() \n",
        "tfidf_train_vectors = tfidf_vectorizer.fit_transform(X_train)\n",
        "tfidf_test_vectors = tfidf_vectorizer.transform(X_test)"
      ],
      "metadata": {
        "id": "3H4S5n7RIUdj"
      },
      "execution_count": 30,
      "outputs": []
    },
    {
      "cell_type": "code",
      "source": [
        "idf = tfidf_vectorizer.idf_\n",
        "# print(idf.shape)\n",
        "word_vec_model = dict(zip(tfidf_vectorizer.get_feature_names(), idf))\n",
        "# print(word_vec_model)"
      ],
      "metadata": {
        "colab": {
          "base_uri": "https://localhost:8080/"
        },
        "id": "kemSWp7v3uf_",
        "outputId": "7b3f22ee-4d38-4522-caf1-1a3a195fa537"
      },
      "execution_count": 31,
      "outputs": [
        {
          "output_type": "stream",
          "name": "stderr",
          "text": [
            "/usr/local/lib/python3.8/dist-packages/sklearn/utils/deprecation.py:87: FutureWarning: Function get_feature_names is deprecated; get_feature_names is deprecated in 1.0 and will be removed in 1.2. Please use get_feature_names_out instead.\n",
            "  warnings.warn(msg, category=FutureWarning)\n"
          ]
        }
      ]
    },
    {
      "cell_type": "code",
      "source": [
        "def word_embedding(train, model):\n",
        "  features = []\n",
        "  for data in train:\n",
        "    # print(data)\n",
        "    text_splt = data.split()\n",
        "    txt_arry = []\n",
        "    for text in text_splt:\n",
        "      weight = model.get(text)\n",
        "      # weight_arry = []\n",
        "      if weight is not None:\n",
        "        # weight_arry.append(weight)\n",
        "        txt_arry.append(weight)\n",
        "    \n",
        "    txt_arry_np = np.asarray(txt_arry).astype(np.float32)\n",
        "    features.append(txt_arry_np)\n",
        "\n",
        "  return np.array(features)\n",
        "\n",
        "def x_padding(train):\n",
        "  inputs = pad_sequences(train, padding='post', maxlen=1000, dtype='float32')\n",
        "  # inputs = inputs.astype(np.float32)\n",
        "  return inputs\n",
        "\n",
        "# print(X_train[0])\n",
        "X_train = word_embedding(X_train, word_vec_model)\n",
        "X_train = x_padding(X_train)\n",
        "\n",
        "X_test = word_embedding(X_test, word_vec_model)\n",
        "X_test = x_padding(X_test)\n",
        "\n",
        "# print(xtrain[0][0])"
      ],
      "metadata": {
        "colab": {
          "base_uri": "https://localhost:8080/"
        },
        "id": "M5M-eyim7fOU",
        "outputId": "ed2339a3-c1fa-4a72-fc26-56f48d4abb36"
      },
      "execution_count": 32,
      "outputs": [
        {
          "output_type": "stream",
          "name": "stderr",
          "text": [
            "<ipython-input-32-451ba355e765>:17: VisibleDeprecationWarning: Creating an ndarray from ragged nested sequences (which is a list-or-tuple of lists-or-tuples-or ndarrays with different lengths or shapes) is deprecated. If you meant to do this, you must specify 'dtype=object' when creating the ndarray.\n",
            "  return np.array(features)\n"
          ]
        }
      ]
    },
    {
      "cell_type": "code",
      "source": [
        "classifier = RandomForestClassifier()\n",
        "classifier.fit(X_train,ytrain)"
      ],
      "metadata": {
        "id": "LxNhJryzhavy",
        "colab": {
          "base_uri": "https://localhost:8080/"
        },
        "outputId": "f83a6bf6-b5ff-4e56-9174-1f4f1890c534"
      },
      "execution_count": 33,
      "outputs": [
        {
          "output_type": "execute_result",
          "data": {
            "text/plain": [
              "RandomForestClassifier()"
            ]
          },
          "metadata": {},
          "execution_count": 33
        }
      ]
    },
    {
      "cell_type": "code",
      "source": [
        "y_pred = classifier.predict(X_test)"
      ],
      "metadata": {
        "id": "RjDOgLlXOamI"
      },
      "execution_count": 34,
      "outputs": []
    },
    {
      "cell_type": "code",
      "source": [
        "print(classification_report(y_test,y_pred))"
      ],
      "metadata": {
        "colab": {
          "base_uri": "https://localhost:8080/"
        },
        "id": "0RknW333Odo1",
        "outputId": "609bb936-cfb1-4580-9520-3e4383c92e06"
      },
      "execution_count": 35,
      "outputs": [
        {
          "output_type": "stream",
          "name": "stdout",
          "text": [
            "              precision    recall  f1-score   support\n",
            "\n",
            "       False       0.75      1.00      0.85      1047\n",
            "        True       0.00      0.00      0.00       357\n",
            "\n",
            "    accuracy                           0.75      1404\n",
            "   macro avg       0.37      0.50      0.43      1404\n",
            "weighted avg       0.56      0.75      0.64      1404\n",
            "\n"
          ]
        },
        {
          "output_type": "stream",
          "name": "stderr",
          "text": [
            "/usr/local/lib/python3.8/dist-packages/sklearn/metrics/_classification.py:1318: UndefinedMetricWarning: Precision and F-score are ill-defined and being set to 0.0 in labels with no predicted samples. Use `zero_division` parameter to control this behavior.\n",
            "  _warn_prf(average, modifier, msg_start, len(result))\n",
            "/usr/local/lib/python3.8/dist-packages/sklearn/metrics/_classification.py:1318: UndefinedMetricWarning: Precision and F-score are ill-defined and being set to 0.0 in labels with no predicted samples. Use `zero_division` parameter to control this behavior.\n",
            "  _warn_prf(average, modifier, msg_start, len(result))\n",
            "/usr/local/lib/python3.8/dist-packages/sklearn/metrics/_classification.py:1318: UndefinedMetricWarning: Precision and F-score are ill-defined and being set to 0.0 in labels with no predicted samples. Use `zero_division` parameter to control this behavior.\n",
            "  _warn_prf(average, modifier, msg_start, len(result))\n"
          ]
        }
      ]
    },
    {
      "cell_type": "code",
      "source": [
        "model = KNeighborsClassifier(n_neighbors=2)\n",
        "\n",
        "# Train the model using the training sets\n",
        "model.fit(X_train,ytrain)\n",
        "\n",
        "#Predict Output\n",
        "predicted= model.predict(X_test) # 0:Overcast, 2:Mild\n",
        "# print(predicted)"
      ],
      "metadata": {
        "id": "1xcR4mRKjexv"
      },
      "execution_count": 36,
      "outputs": []
    },
    {
      "cell_type": "code",
      "source": [
        "print(classification_report(y_test,predicted))"
      ],
      "metadata": {
        "colab": {
          "base_uri": "https://localhost:8080/"
        },
        "id": "gkK9MJBaQ_VF",
        "outputId": "67a9e8b3-d66f-4529-acb2-70e7bec8ee63"
      },
      "execution_count": 37,
      "outputs": [
        {
          "output_type": "stream",
          "name": "stdout",
          "text": [
            "              precision    recall  f1-score   support\n",
            "\n",
            "       False       0.75      0.82      0.78      1047\n",
            "        True       0.27      0.19      0.22       357\n",
            "\n",
            "    accuracy                           0.66      1404\n",
            "   macro avg       0.51      0.51      0.50      1404\n",
            "weighted avg       0.63      0.66      0.64      1404\n",
            "\n"
          ]
        }
      ]
    },
    {
      "cell_type": "code",
      "source": [],
      "metadata": {
        "id": "Jni9gnR0RPQK"
      },
      "execution_count": null,
      "outputs": []
    }
  ]
}